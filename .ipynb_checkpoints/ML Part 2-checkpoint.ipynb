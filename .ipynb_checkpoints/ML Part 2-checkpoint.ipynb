{
 "cells": [
  {
   "cell_type": "markdown",
   "metadata": {},
   "source": [
    "## TensorFlow - Deep Learning, Neural Networks, Etc ##\n",
    "\n",
    "Key advantage: TensorFlow can train a network with millions of parameters and billions of instances with millions of features each. Using distributed computing to access CPUs, GPUPUs, GPUs. Powers Google Cloud Speech, Google Photos, and Google Search for the Google Brain Team.\n",
    "\n",
    "Great design, easy interface, excellent documentation, scalability, flexibility, brand equity made it the most popular language; it's production-ready, scalable, and flexible. It runs on Windows, Linux, and MacOS, but also mobile devices like iOS & Android.\n",
    "\n",
    "It includes highly efficient C++ implements of many ML operations, especially those for building neural networks; \n",
    "\n",
    "Comes with a great visualizing tool called TensorBoard to allow us to browse through a graph, learning curves, and more. \n",
    "\n",
    "It has a dedicated team of passionate and helpful developers. One of most popular open source projects on GitHub. \n"
   ]
  },
  {
   "cell_type": "code",
   "execution_count": 6,
   "metadata": {},
   "outputs": [],
   "source": [
    "import tensorflow as tf \n",
    "\n",
    "x=tf.Variable(3,name='x')\n",
    "y=tf.Variable(4,name='y')\n",
    "f= x*x*y + y +2 \n",
    "\n",
    "#this code just created a computation graph; to evaluate, we need to FIRST open a TensorFlow session and use that to initialize the variables"
   ]
  },
  {
   "cell_type": "code",
   "execution_count": 7,
   "metadata": {},
   "outputs": [],
   "source": [
    "#Tensorflow sessions takes care of placing operations onto devices such as CPUs and GPUs and runs them."
   ]
  },
  {
   "cell_type": "code",
   "execution_count": 10,
   "metadata": {},
   "outputs": [
    {
     "name": "stdout",
     "output_type": "stream",
     "text": [
      "42\n"
     ]
    }
   ],
   "source": [
    "sess = tf.Session()\n",
    "sess.run(x.initializer)\n",
    "sess.run(y.initializer)\n",
    "result = sess.run(f)\n",
    "print(result)"
   ]
  },
  {
   "cell_type": "code",
   "execution_count": 11,
   "metadata": {},
   "outputs": [],
   "source": [
    "with tf.Session() as sess: \n",
    "    x.initializer.run()\n",
    "    y.initializer.run()\n",
    "    result = f.eval()"
   ]
  },
  {
   "cell_type": "code",
   "execution_count": 12,
   "metadata": {},
   "outputs": [],
   "source": [
    "init = tf.global_variables_initializer()\n",
    "#initializes all variables\n",
    "\n",
    "with tf.Session() as sess: \n",
    "    init.run() #this is the line that initializes all the variables\n",
    "    result = f.eval()"
   ]
  },
  {
   "cell_type": "code",
   "execution_count": 15,
   "metadata": {},
   "outputs": [],
   "source": [
    "import numpy as np\n",
    "\n",
    "from sklearn.datasets import fetch_california_housing\n",
    "\n",
    "housing = fetch_california_housing()\n",
    "m,n = housing.data.shape\n",
    "\n",
    "housing_data_plus_bias = np.c_[np.ones((m,1)), housing.data]\n",
    "\n",
    "#Define tensorflow variables. This makes sure that the code is ran as efficiently as possible on GPU cards if we have some\n",
    "\n",
    "X = tf.constant(housing_data_plus_bias, dtype = tf.float32, name ='X')\n",
    "y = tf.constant(housing.target.reshape(-1,1),dtype=tf.float32, name='y')\n",
    "XT = tf.transpose(X)\n",
    "theta = tf.matmul(tf.matmul(tf.matrix_inverse(tf.matmul(XT,X)), XT),y)\n",
    "\n",
    "with tf.Session() as sess:\n",
    "    theta_value = theta.eval()\n",
    "    "
   ]
  },
  {
   "cell_type": "code",
   "execution_count": null,
   "metadata": {},
   "outputs": [],
   "source": []
  }
 ],
 "metadata": {
  "kernelspec": {
   "display_name": "Python 3",
   "language": "python",
   "name": "python3"
  },
  "language_info": {
   "codemirror_mode": {
    "name": "ipython",
    "version": 3
   },
   "file_extension": ".py",
   "mimetype": "text/x-python",
   "name": "python",
   "nbconvert_exporter": "python",
   "pygments_lexer": "ipython3",
   "version": "3.6.4"
  }
 },
 "nbformat": 4,
 "nbformat_minor": 2
}
